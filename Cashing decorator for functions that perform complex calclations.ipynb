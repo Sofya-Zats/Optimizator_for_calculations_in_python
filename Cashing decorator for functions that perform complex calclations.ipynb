{
 "cells": [
  {
   "cell_type": "code",
   "execution_count": null,
   "id": "b2a5fc0e",
   "metadata": {},
   "outputs": [
    {
     "name": "stdout",
     "output_type": "stream",
     "text": [
      "There's no repeated calculation,new result is calculated:8\n",
      "There's no repeated calculation,new result is calculated:81\n",
      "This is a repeated calculation, result is fetched from cache:81\n"
     ]
    },
    {
     "data": {
      "text/plain": [
       "81"
      ]
     },
     "execution_count": 9,
     "metadata": {},
     "output_type": "execute_result"
    }
   ],
   "source": [
    "#Cashing results of a function is a great way to save time and resources, especially for functions that are computationally expensive or called frequently with the same arguments\n",
    "#Cashe_results is a decorator that caches the results of a function and helps avoid repeated calculations.\n",
    "\n",
    "from functools import wraps\n",
    "past_calculations={} \n",
    "\n",
    "def cache_results(func):\n",
    "    @wraps(func)\n",
    "    def wrapper(*args, **kwargs):\n",
    "     global past_calculations\n",
    "     \n",
    "     current_arguments=args \n",
    "     \n",
    "     repeated_result=past_calculations.get(current_arguments, None)\n",
    "     if repeated_result is None:\n",
    "         new_result=func(*args)\n",
    "         past_calculations[current_arguments]=new_result\n",
    "         print(f\"There's no repeated calculation,new result is calculated:{new_result}\")\n",
    "         return new_result \n",
    "        \n",
    "     else:\n",
    "         \n",
    "         print(f\"This is a repeated calculation, result is fetched from cache:{repeated_result}\")\n",
    "         return  repeated_result\n",
    "    return wrapper\n",
    "    \n",
    "   \n",
    "\n",
    "#To demonstrate the caching functionality, we will create a simple \"power\" function that raises a number to a power.\n",
    "#Conveniently,caching decorator will also work for functions that take any number of arguments, including those with default values.\n",
    "@cache_results\n",
    "def power(a: int, b: int) -> int:\n",
    "    return a**b\n",
    "\n",
    "power(2,3)\n",
    "power(3,4)\n",
    "power(3,4)"
   ]
  }
 ],
 "metadata": {
  "kernelspec": {
   "display_name": "Python 3",
   "language": "python",
   "name": "python3"
  },
  "language_info": {
   "codemirror_mode": {
    "name": "ipython",
    "version": 3
   },
   "file_extension": ".py",
   "mimetype": "text/x-python",
   "name": "python",
   "nbconvert_exporter": "python",
   "pygments_lexer": "ipython3",
   "version": "3.12.4"
  }
 },
 "nbformat": 4,
 "nbformat_minor": 5
}
